{
 "cells": [
  {
   "cell_type": "markdown",
   "id": "569d12d1-dd0f-4a71-9c33-ea55a42d16ec",
   "metadata": {},
   "source": [
    "# 二次元配列と勾配問題"
   ]
  },
  {
   "cell_type": "markdown",
   "id": "7d7f8f13-2585-457e-b9db-1c39a94626de",
   "metadata": {},
   "source": [
    "## 【問題1】1次関数\n",
    "xが-50から50の範囲で次の式を考えます。\n",
    "\n",
    "$$y=\\frac{1}{2}x+1$$\n",
    "\n",
    "-50から50まで0.1間隔のxを表すndarrayと、各要素に対するyを表すndarrayを作成してください。"
   ]
  },
  {
   "cell_type": "code",
   "execution_count": 1,
   "id": "8f33ec0d-0a54-4e17-95b2-0ff9458a45bb",
   "metadata": {},
   "outputs": [],
   "source": [
    "import numpy as np\n",
    "\n",
    "np.set_printoptions(suppress=True)\n",
    "x_ndarray = np.arange(-50, 50.1, 0.1)\n",
    "y_ndarray = np.array(((1 / 2) * x_ndarray) + 1)"
   ]
  },
  {
   "cell_type": "markdown",
   "id": "52e541ac-f3d6-4d6a-bf89-61a8b88dc6ff",
   "metadata": {},
   "source": [
    "## 【問題2】配列の結合\n",
    "問題1で作成したndarrayを結合し、(1001, 2)の形の配列にしてください。0列目にx、1列目にyが来るようにします。"
   ]
  },
  {
   "cell_type": "code",
   "execution_count": 2,
   "id": "0d826c7f-1a50-44fd-b51f-d0d8e000dc02",
   "metadata": {},
   "outputs": [
    {
     "data": {
      "text/plain": [
       "(1001,)"
      ]
     },
     "execution_count": 2,
     "metadata": {},
     "output_type": "execute_result"
    }
   ],
   "source": [
    "x_ndarray.shape"
   ]
  },
  {
   "cell_type": "code",
   "execution_count": 3,
   "id": "6f4927d8-5008-4b10-b109-725aed055664",
   "metadata": {},
   "outputs": [],
   "source": [
    "xy_ndarray = np.stack([x_ndarray, y_ndarray], axis=1)"
   ]
  },
  {
   "cell_type": "code",
   "execution_count": 4,
   "id": "e9312a4f-11a1-4686-aeb0-6ac8e2cd5a16",
   "metadata": {},
   "outputs": [
    {
     "name": "stdout",
     "output_type": "stream",
     "text": [
      "(1001, 2)\n"
     ]
    }
   ],
   "source": [
    "print(xy_ndarray.shape)"
   ]
  },
  {
   "cell_type": "code",
   "execution_count": 5,
   "id": "9557431c-306f-4fc1-ba2a-203437a1c61f",
   "metadata": {},
   "outputs": [],
   "source": [
    "x_ndarray = x_ndarray.reshape(1001, 1) #concatenateは次元を増やせない\n",
    "y_ndarray = y_ndarray.reshape(1001, 1) #代用stack"
   ]
  },
  {
   "cell_type": "code",
   "execution_count": 6,
   "id": "d1d0c90a-27f7-4cc2-b9f1-741b2fc2aadf",
   "metadata": {},
   "outputs": [],
   "source": [
    "xy_ndarray = np.concatenate([x_ndarray, y_ndarray], axis=1) "
   ]
  },
  {
   "cell_type": "code",
   "execution_count": 7,
   "id": "500fc209-6b89-4c95-a784-980cc3006419",
   "metadata": {},
   "outputs": [
    {
     "name": "stdout",
     "output_type": "stream",
     "text": [
      "[[-50.   -24.  ]\n",
      " [-49.9  -23.95]\n",
      " [-49.8  -23.9 ]\n",
      " ...\n",
      " [ 49.8   25.9 ]\n",
      " [ 49.9   25.95]\n",
      " [ 50.    26.  ]]\n"
     ]
    }
   ],
   "source": [
    "print(xy_ndarray)"
   ]
  },
  {
   "cell_type": "markdown",
   "id": "481085f8-0800-4535-a016-e1fabcb64424",
   "metadata": {},
   "source": [
    "## 【問題3】勾配を求める\n",
    "各x座標における勾配を求めます。ここで勾配はyの変化量をxの変化量で割ることで計算します。"
   ]
  },
  {
   "cell_type": "code",
   "execution_count": 8,
   "id": "b6aaf81e-6acf-42f8-82bd-a14bec196e20",
   "metadata": {},
   "outputs": [
    {
     "name": "stdout",
     "output_type": "stream",
     "text": [
      "(1000, 1)\n"
     ]
    }
   ],
   "source": [
    "x_ndarray_first = x_ndarray[1:]\n",
    "x_ndarray_second = x_ndarray[:-1]\n",
    "x_amount_of_change = x_ndarray_first - x_ndarray_second # xの変化量\n",
    "print(x_amount_of_change.shape)"
   ]
  },
  {
   "cell_type": "code",
   "execution_count": 9,
   "id": "6719b960-051b-44b0-80ab-a5994999de11",
   "metadata": {},
   "outputs": [
    {
     "name": "stdout",
     "output_type": "stream",
     "text": [
      "(1000, 1)\n"
     ]
    }
   ],
   "source": [
    "y_ndarray_first = y_ndarray[1:]\n",
    "y_ndarray_second = y_ndarray[:-1]\n",
    "y_amount_of_change = y_ndarray_first - y_ndarray_second # yの変化量\n",
    "print(y_amount_of_change.shape)"
   ]
  },
  {
   "cell_type": "code",
   "execution_count": 10,
   "id": "b11de4de-7aa6-4fc9-8b0e-1e4a3b4115c5",
   "metadata": {},
   "outputs": [],
   "source": [
    "xy_amount_of_change = y_amount_of_change / x_amount_of_change #勾配"
   ]
  },
  {
   "cell_type": "markdown",
   "id": "75dedabf-fb7f-4d39-8734-01cf2e4343b2",
   "metadata": {},
   "source": [
    "## 【問題4】グラフを描く\n",
    "1次関数のグラフをMatplotlibを用いて描いてください。また、それとは別に横軸をx、縦軸を勾配としたグラフも描いてください。"
   ]
  },
  {
   "cell_type": "code",
   "execution_count": 11,
   "id": "c5ee5cf7-68ca-4a30-9b27-b2ec84e8f4ad",
   "metadata": {},
   "outputs": [],
   "source": [
    "import matplotlib.pyplot as plt\n",
    "%matplotlib inline"
   ]
  },
  {
   "cell_type": "code",
   "execution_count": 12,
   "id": "ce596702-6e0e-4d11-85d5-7c6efa5ba27b",
   "metadata": {},
   "outputs": [
    {
     "data": {
      "image/png": "[encoded data removed]",
      "text/plain": [
       "<Figure size 432x288 with 1 Axes>"
      ]
     },
     "metadata": {
      "needs_background": "light"
     },
     "output_type": "display_data"
    }
   ],
   "source": [
    "# 一次関数のグラフの作成\n",
    "plt.title('graph')\n",
    "plt.xlabel('x')\n",
    "plt.ylabel('y')\n",
    "plt.plot(x_ndarray, y_ndarray);"
   ]
  },
  {
   "cell_type": "code",
   "execution_count": 13,
   "id": "f67e1b94-5379-4d8c-a8b1-abbab3b890bb",
   "metadata": {},
   "outputs": [
    {
     "data": {
      "image/png": "[encoded data removed]",
      "text/plain": [
       "<Figure size 432x288 with 1 Axes>"
      ]
     },
     "metadata": {
      "needs_background": "light"
     },
     "output_type": "display_data"
    }
   ],
   "source": [
    "# 横軸をx、縦軸を勾配としたグラフ\n",
    "plt.title('amount_of_change graph')\n",
    "plt.xlabel('x')\n",
    "plt.ylabel('amount_of_change')\n",
    "plt.plot(x_ndarray[:1000, :], xy_amount_of_change);"
   ]
  },
  {
   "cell_type": "markdown",
   "id": "75c89c19-f445-40bb-aa34-a85183090043",
   "metadata": {},
   "source": [
    "## 【問題5】Pythonの関数化\n",
    "問題1から問題3までの範囲をまとめて行うPythonの関数を雛形を参考に作成してください。\n",
    "\n",
    "そして、以下の3式の勾配を0.1間隔で求めてndarrayで出力してください。\n",
    "\n",
    "$$y=x^2(-50\\leq x\\leq50)$$\n",
    "$$y=2x^2+2^x(-50\\leq x\\leq50)$$\n",
    "$$y=\\sin(x^{\\frac{1}{2}})(0\\leq x\\leq50)$$\n",
    "\n",
    "また、問題4と同様にグラフを描いてください。\n",
    "\n",
    "ndarrayに対して三角関数のsinの計算を行うには np.sin()を用います。"
   ]
  },
  {
   "cell_type": "code",
   "execution_count": 14,
   "id": "cfbe1eeb-ad6f-4b3a-a8c3-937a60162e2f",
   "metadata": {},
   "outputs": [],
   "source": [
    "def compute_amount(function, x_range=(-50, 50.1, 0.1)):\n",
    "    '''\n",
    "    function : xの範囲[x_range]とy[function]から勾配[amount_of_change]を返す関数\n",
    "    \n",
    "    param\n",
    "    -------------\n",
    "    x_range : ndarray\n",
    "        xの取りうる値\n",
    "    function : ndarray\n",
    "        yを求める式\n",
    "    -------------\n",
    "    return : amount_of_change : int or flout\n",
    "        勾配\n",
    "    '''\n",
    "    x_ndarray = np.arange(*x_range)\n",
    "    y_ndarray = function(x_ndarray)\n",
    "    # function = (x_ndarray) = x_ndarray ** 2\n",
    "    \n",
    "    # xの変化量\n",
    "    x_ndarray_first = x_ndarray[1:]\n",
    "    x_ndarray_second = x_ndarray[:-1]\n",
    "    x_amount_of_change = x_ndarray_first - x_ndarray_second\n",
    "    \n",
    "    # yの変化量\n",
    "    y_ndarray_first = y_ndarray[1:]\n",
    "    y_ndarray_second = y_ndarray[:-1]\n",
    "    y_amount_of_change = y_ndarray_first - y_ndarray_second\n",
    "    \n",
    "    amount_of_change = y_amount_of_change / x_amount_of_change #勾配\n",
    "    \n",
    "    return amount_of_change"
   ]
  },
  {
   "cell_type": "code",
   "execution_count": 15,
   "id": "e518a72b-03f5-4da6-9b8b-db1189c24a38",
   "metadata": {},
   "outputs": [],
   "source": [
    "def function1(x_ndarray):\n",
    "    y_ndarray = x_ndarray ** 2\n",
    "    return y_ndarray"
   ]
  },
  {
   "cell_type": "code",
   "execution_count": 16,
   "id": "2d525636-dbbc-44ab-ae78-a3d3173b5699",
   "metadata": {},
   "outputs": [],
   "source": [
    "def function2(x_ndarray):\n",
    "    y_ndarray = (2 * x_ndarray ** 2) + (2 ** x_ndarray)\n",
    "    return y_ndarray"
   ]
  },
  {
   "cell_type": "code",
   "execution_count": 17,
   "id": "16775872-a3b9-49a7-8369-2ec963545cfb",
   "metadata": {},
   "outputs": [],
   "source": [
    "def function3(x_ndarray):\n",
    "    y_ndarray = np.sin(x_ndarray ** (1 / 2))\n",
    "    return y_ndarray"
   ]
  },
  {
   "cell_type": "code",
   "execution_count": 18,
   "id": "0a20b595-dd15-4596-842f-ff9c29f48fbd",
   "metadata": {},
   "outputs": [],
   "source": [
    "# test = (-1, 1 , 0.1)\n",
    "# test_ndarray = np.arange(*test) # *をつけることによって展開される"
   ]
  },
  {
   "cell_type": "code",
   "execution_count": 19,
   "id": "4b341bb3-d735-461b-86ba-719f2a1c5e6f",
   "metadata": {},
   "outputs": [],
   "source": [
    "amount_of_change_1 = compute_amount(function1)# 式1の勾配のndarray\n",
    "# 現時点でfunctionの引数を指定していなくても、実際に使用される関数内部で引数を与えてあげれば問題なく\n",
    "# 使用できる。\n",
    "# 逆にfuntion()だけでは当然エラーを吐く\n",
    "# おそらくdefの引数として宣言するタイミングでは特に引数の内容を見ているわけではなく、実際に使用する\n",
    "# タイミングで内部を見ているものと考えられる。"
   ]
  },
  {
   "cell_type": "code",
   "execution_count": 20,
   "id": "c9265c72-253d-49c7-b018-846ab75c7ef0",
   "metadata": {},
   "outputs": [],
   "source": [
    "amount_of_change_2 = compute_amount(function2) # 式2の勾配のndarray"
   ]
  },
  {
   "cell_type": "code",
   "execution_count": 21,
   "id": "1f9c46e6-cc9a-4139-aa7a-853db3cce3c3",
   "metadata": {},
   "outputs": [],
   "source": [
    "amount_of_change_3 = compute_amount(function3, x_range=(0, 50.1, 0.1))# 式3の勾配のndarray\n",
    "# sqrtの中にマイナス入れると虚数とるためNANを返す"
   ]
  },
  {
   "cell_type": "markdown",
   "id": "4ee18c96-6b43-4d5d-96f3-dca1c9a96cee",
   "metadata": {},
   "source": [
    "## 【問題6】最小値を求める\n",
    "問題5で扱った関数のyの最小値を求めます。xの範囲も問題5と同様とします。\n",
    "\n",
    "今回は勾配降下法ではなく、ndarrayのminメソッド、argminメソッドを用いてください。minメソッドは最小値を、argminメソッドは最小値のインデックスを取得することができます。\n",
    "\n",
    "また、最小のyをとる前後の勾配を表示してください"
   ]
  },
  {
   "cell_type": "code",
   "execution_count": 22,
   "id": "52925861-72a6-42ef-83a9-1ecea5337815",
   "metadata": {},
   "outputs": [],
   "source": [
    "def get_y_min(function, x_range=(-50, 50.1, 0.1)):\n",
    "    '''\n",
    "    function : xの範囲[x_range]とy[function]からyの最小値[y_min]を返す関数\n",
    "    \n",
    "    param\n",
    "    -------------\n",
    "    x_range : ndarray\n",
    "        xの取りうる値\n",
    "    function : ndarray\n",
    "        yを求める式\n",
    "    -------------\n",
    "    return : y_min : int or flout\n",
    "        勾配\n",
    "    '''\n",
    "    x_ndarray = np.arange(*x_range)\n",
    "    y_ndarray = function(x_ndarray)\n",
    "    \n",
    "    y_min = np.min(y_ndarray) # yの最小値\n",
    "    \n",
    "    return y_min, x_ndarray, y_ndarray"
   ]
  },
  {
   "cell_type": "code",
   "execution_count": 23,
   "id": "53fa4dcf-81d9-427f-8a7f-ccde6fd6b313",
   "metadata": {},
   "outputs": [
    {
     "name": "stdout",
     "output_type": "stream",
     "text": [
      "yの最小値は : 5.048710e-25\n"
     ]
    },
    {
     "data": {
      "image/png": "[encoded data removed]",
      "text/plain": [
       "<Figure size 432x288 with 1 Axes>"
      ]
     },
     "metadata": {
      "needs_background": "light"
     },
     "output_type": "display_data"
    }
   ],
   "source": [
    "func1_y_min, func1_x_ndarray, func1_y_ndarray = get_y_min(function1)\n",
    "# 一次関数のグラフの作成\n",
    "plt.title('function1')\n",
    "plt.xlabel('x')\n",
    "plt.ylabel('y')\n",
    "plt.plot(func1_x_ndarray, func1_y_ndarray);\n",
    "print('yの最小値は : {:e}'.format(func1_y_min))\n",
    "#rangeでは誤差が生じるため正確な結果は得られない"
   ]
  },
  {
   "cell_type": "code",
   "execution_count": 24,
   "id": "23d03da1-f640-4127-a99f-7d49046b7981",
   "metadata": {},
   "outputs": [
    {
     "data": {
      "text/plain": [
       "0"
      ]
     },
     "execution_count": 24,
     "metadata": {},
     "output_type": "execute_result"
    }
   ],
   "source": [
    "function1(0)  #ちゃんとした答えは0"
   ]
  },
  {
   "cell_type": "code",
   "execution_count": 25,
   "id": "5d375df9-8136-42cf-a8bf-e29560363f91",
   "metadata": {},
   "outputs": [],
   "source": [
    "def get_y_min_npappend(function, x_range=(-50, 50.1, 0.1)): # np.appendを用いた正確な値を返す関数\n",
    "    '''\n",
    "    function : xの範囲[x_range]とy[function]からyの最小値[y_min]を返す関数\n",
    "    \n",
    "    param\n",
    "    -------------\n",
    "    x_range : ndarray\n",
    "        xの取りうる値\n",
    "    function : ndarray\n",
    "        yを求める式\n",
    "    -------------\n",
    "    return : y_min : int or flout\n",
    "        勾配\n",
    "    '''\n",
    "    x_ndarray = np.arange(*x_range)\n",
    "    x_ndarray_r = np.array([]) # 計算用空リストの作成\n",
    "    for i in x_ndarray: # 内容ひとつづつ取り出す\n",
    "        x_ndarray_r = np.append(x_ndarray_r, round(i, 1)) #小数点第1で四捨五入して再格納\n",
    "    y_ndarray = function(x_ndarray_r)\n",
    "    \n",
    "    y_min = np.min(y_ndarray) # yの最小値\n",
    "    \n",
    "    return y_min, x_ndarray_r, y_ndarray"
   ]
  },
  {
   "cell_type": "code",
   "execution_count": 26,
   "id": "3a00dc06-4eec-40aa-942c-d2a39df60093",
   "metadata": {},
   "outputs": [
    {
     "name": "stdout",
     "output_type": "stream",
     "text": [
      "yの最小値は : 0.0\n"
     ]
    },
    {
     "data": {
      "image/png": "[encoded data removed]",
      "text/plain": [
       "<Figure size 432x288 with 1 Axes>"
      ]
     },
     "metadata": {
      "needs_background": "light"
     },
     "output_type": "display_data"
    }
   ],
   "source": [
    "func1_y_min, func1_x_ndarray, func1_y_ndarray = get_y_min_npappend(function1)\n",
    "# 一次関数のグラフの作成\n",
    "plt.title('function1')\n",
    "plt.xlabel('x')\n",
    "plt.ylabel('y')\n",
    "plt.plot(func1_x_ndarray, func1_y_ndarray);\n",
    "print('yの最小値は : {}'.format(func1_y_min))"
   ]
  },
  {
   "cell_type": "code",
   "execution_count": 27,
   "id": "648a9652-0a8f-42de-9a7d-a9ce06b82e97",
   "metadata": {},
   "outputs": [
    {
     "name": "stdout",
     "output_type": "stream",
     "text": [
      "[-5 -4 -3 -2 -1  0  1  2  3  4]\n",
      "0\n"
     ]
    }
   ],
   "source": [
    "# argminの使い方\n",
    "test = np.arange(-5, 5)\n",
    "print(test)\n",
    "te = np.argmin(test)\n",
    "print(te)"
   ]
  },
  {
   "cell_type": "code",
   "execution_count": 28,
   "id": "cd2ec8e5-4e9c-4056-b740-58abae47633d",
   "metadata": {},
   "outputs": [],
   "source": [
    "def get_y_min_list(function, x_range=(-50, 50.1, 0.1)): # listを用いた正確な値を返す関数+勾配を求める\n",
    "    '''\n",
    "    function : xの範囲[x_range]とy[function]からyの最小値[y_min]を返す関数\n",
    "    \n",
    "    param\n",
    "    -------------\n",
    "    x_range : ndarray\n",
    "        xの取りうる値\n",
    "    function : ndarray\n",
    "        yを求める式\n",
    "    -------------\n",
    "    return : y_min : int or flout\n",
    "        勾配\n",
    "    '''\n",
    "    x_ndarray = np.arange(*x_range)\n",
    "    x_ndarray_r = [] # 計算用空リストの作成\n",
    "    for i in x_ndarray: # 内容ひとつづつ取り出す\n",
    "        x_ndarray_r.append(round(i, 1)) #小数点第1で四捨五入して再格納\n",
    "    x_ndarray_r = np.array(x_ndarray_r)\n",
    "    y_ndarray = function(x_ndarray_r)\n",
    "    \n",
    "    y_min = np.min(y_ndarray) # yの最小値\n",
    "    y_min_arg = np.argmin(y_ndarray) # yの最小値の時の添字\n",
    "    x_amount = x_ndarray_r[y_min_arg - 1] -  x_ndarray_r[y_min_arg + 1] # 最小のyをとる前後のxの変化量(0.2)\n",
    "    y_amount = function(x_ndarray_r[y_min_arg - 1]) - function(x_ndarray_r[y_min_arg + 1]) # 最小のyをとる前後のyの変化量\n",
    "    y_min_amount = y_amount / x_amount # 最小のyをとる前後の勾配\n",
    "    \n",
    "    return y_min, y_min_arg, y_min_amount, x_ndarray_r, y_ndarray"
   ]
  },
  {
   "cell_type": "code",
   "execution_count": 29,
   "id": "837c5454-b4aa-4e6f-894c-53619a46485b",
   "metadata": {},
   "outputs": [
    {
     "name": "stdout",
     "output_type": "stream",
     "text": [
      "yの最小値は : 0.0\n",
      "yの最小値のインデックスは : 500\n",
      "最小のyを取る前後の勾配は : -0.0\n"
     ]
    },
    {
     "data": {
      "image/png": "[encoded data removed]",
      "text/plain": [
       "<Figure size 432x288 with 1 Axes>"
      ]
     },
     "metadata": {
      "needs_background": "light"
     },
     "output_type": "display_data"
    }
   ],
   "source": [
    "func1_y_min, func1_y_min_arg, func1_y_min_amount, func1_x_ndarray, func1_y_ndarray = get_y_min_list(function1)\n",
    "plt.title('function1')\n",
    "plt.xlabel('x')\n",
    "plt.ylabel('y')\n",
    "plt.plot(func1_x_ndarray, func1_y_ndarray);\n",
    "print('yの最小値は : {}'.format(func1_y_min))\n",
    "print('yの最小値のインデックスは : {}'.format(func1_y_min_arg))\n",
    "print('最小のyを取る前後の勾配は : {}'.format(func1_y_min_amount))"
   ]
  },
  {
   "cell_type": "code",
   "execution_count": 30,
   "id": "2ccc1b2e-4127-4fc7-85de-f9ebb54e820b",
   "metadata": {},
   "outputs": [
    {
     "name": "stdout",
     "output_type": "stream",
     "text": [
      "yの最小値は : 9.505506e-01\n",
      "yの最小値のインデックスは : 498\n",
      "最小のyを取る前後の勾配は : -0.1960970240971405\n"
     ]
    },
    {
     "data": {
      "image/png": "[encoded data removed]",
      "text/plain": [
       "<Figure size 432x288 with 1 Axes>"
      ]
     },
     "metadata": {
      "needs_background": "light"
     },
     "output_type": "display_data"
    }
   ],
   "source": [
    "func2_y_min, func2_y_min_arg, func2_y_min_amount, func2_x_ndarray, func2_y_ndarray = get_y_min_list(function2)\n",
    "plt.title('function2')\n",
    "plt.xlabel('x')\n",
    "plt.ylabel('y')\n",
    "plt.plot(func2_x_ndarray, func2_y_ndarray);\n",
    "print('yの最小値は : {:e}'.format(func2_y_min))\n",
    "print('yの最小値のインデックスは : {}'.format(func2_y_min_arg))\n",
    "print('最小のyを取る前後の勾配は : {}'.format(func2_y_min_amount))"
   ]
  },
  {
   "cell_type": "code",
   "execution_count": 31,
   "id": "0f68cd54-b347-422f-b2f9-dd3267d87fa4",
   "metadata": {},
   "outputs": [
    {
     "name": "stdout",
     "output_type": "stream",
     "text": [
      "yの最小値は : -9.999998e-01\n",
      "yの最小値のインデックスは : 222\n",
      "最小のyを取る前後の勾配は : -7.56972314441831e-05\n"
     ]
    },
    {
     "data": {
      "image/png": "[encoded data removed]",
      "text/plain": [
       "<Figure size 432x288 with 1 Axes>"
      ]
     },
     "metadata": {
      "needs_background": "light"
     },
     "output_type": "display_data"
    }
   ],
   "source": [
    "func3_y_min, func3_y_min_arg, func3_y_min_amount, func3_x_ndarray, func3_y_ndarray = get_y_min_list(function3, x_range=(0, 50.1, 0.1))\n",
    "plt.title('function3')\n",
    "plt.xlabel('x')\n",
    "plt.ylabel('y')\n",
    "plt.plot(func3_x_ndarray, func3_y_ndarray);\n",
    "print('yの最小値は : {:e}'.format(func3_y_min))\n",
    "print('yの最小値のインデックスは : {}'.format(func3_y_min_arg))\n",
    "print('最小のyを取る前後の勾配は : {}'.format(func3_y_min_amount))"
   ]
  }
 ],
 "metadata": {
  "kernelspec": {
   "display_name": "Python 3",
   "language": "python",
   "name": "python3"
  },
  "language_info": {
   "codemirror_mode": {
    "name": "ipython",
    "version": 3
   },
   "file_extension": ".py",
   "mimetype": "text/x-python",
   "name": "python",
   "nbconvert_exporter": "python",
   "pygments_lexer": "ipython3",
   "version": "3.8.8"
  }
 },
 "nbformat": 4,
 "nbformat_minor": 5
}
